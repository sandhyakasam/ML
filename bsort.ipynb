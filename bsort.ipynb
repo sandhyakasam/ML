{
 "cells": [
  {
   "cell_type": "code",
   "execution_count": 1,
   "metadata": {},
   "outputs": [
    {
     "name": "stdout",
     "output_type": "stream",
     "text": [
      "[14, 21, 27, 41, 43, 45, 46, 57, 70]\n"
     ]
    }
   ],
   "source": [
    "def bsort(nlist):\n",
    "    for passnum in range(len(mylist)-1,0,-1):\n",
    "        for i in range(passnum):\n",
    "            if nlist[i]> nlist[i+1]:#if first num > scnd num then swap it \n",
    "                nlist[i] =nlist[i]+nlist[i+1]\n",
    "                nlist[i+1] =nlist[i]-nlist[i+1]\n",
    "                nlist[i]=nlist[i]-nlist[i+1]\n",
    "                 \n",
    "mylist = [14,46,43,27,57,41,45,21,70]\n",
    "bsort(mylist)\n",
    "print(mylist)"
   ]
  },
  {
   "cell_type": "code",
   "execution_count": null,
   "metadata": {},
   "outputs": [],
   "source": []
  }
 ],
 "metadata": {
  "kernelspec": {
   "display_name": "Python 3",
   "language": "python",
   "name": "python3"
  },
  "language_info": {
   "codemirror_mode": {
    "name": "ipython",
    "version": 3
   },
   "file_extension": ".py",
   "mimetype": "text/x-python",
   "name": "python",
   "nbconvert_exporter": "python",
   "pygments_lexer": "ipython3",
   "version": "3.6.5"
  }
 },
 "nbformat": 4,
 "nbformat_minor": 2
}
